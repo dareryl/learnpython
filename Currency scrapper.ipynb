{
 "cells": [
  {
   "cell_type": "code",
   "execution_count": 2,
   "metadata": {},
   "outputs": [
    {
     "name": "stdout",
     "output_type": "stream",
     "text": [
      "Collecting package metadata (current_repodata.json): done\n",
      "Solving environment: done\n",
      "\n",
      "## Package Plan ##\n",
      "\n",
      "  environment location: /Users/darylchan/opt/anaconda3/envs/my_conda\n",
      "\n",
      "  added / updated specs:\n",
      "    - pandas\n",
      "\n",
      "\n",
      "The following packages will be downloaded:\n",
      "\n",
      "    package                    |            build\n",
      "    ---------------------------|-----------------\n",
      "    pytz-2020.1                |             py_0         184 KB\n",
      "    ------------------------------------------------------------\n",
      "                                           Total:         184 KB\n",
      "\n",
      "The following NEW packages will be INSTALLED:\n",
      "\n",
      "  blas               pkgs/main/osx-64::blas-1.0-mkl\n",
      "  intel-openmp       pkgs/main/osx-64::intel-openmp-2019.4-233\n",
      "  libgfortran        pkgs/main/osx-64::libgfortran-3.0.1-h93005f0_2\n",
      "  mkl                pkgs/main/osx-64::mkl-2019.4-233\n",
      "  mkl-service        pkgs/main/osx-64::mkl-service-2.3.0-py38hfbe908c_0\n",
      "  mkl_fft            pkgs/main/osx-64::mkl_fft-1.0.15-py38h5e564d8_0\n",
      "  mkl_random         pkgs/main/osx-64::mkl_random-1.1.0-py38h6440ff4_0\n",
      "  numpy              pkgs/main/osx-64::numpy-1.18.1-py38h7241aed_0\n",
      "  numpy-base         pkgs/main/osx-64::numpy-base-1.18.1-py38h6575580_1\n",
      "  pandas             pkgs/main/osx-64::pandas-1.0.3-py38h6c726b0_0\n",
      "  pytz               pkgs/main/noarch::pytz-2020.1-py_0\n",
      "\n",
      "\n",
      "\n",
      "Downloading and Extracting Packages\n",
      "pytz-2020.1          | 184 KB    | ##################################### | 100% \n",
      "Preparing transaction: done\n",
      "Verifying transaction: done\n",
      "Executing transaction: done\n",
      "\n",
      "Note: you may need to restart the kernel to use updated packages.\n"
     ]
    }
   ],
   "source": [
    "conda install pandas"
   ]
  },
  {
   "cell_type": "code",
   "execution_count": 3,
   "metadata": {},
   "outputs": [],
   "source": [
    "import requests\n",
    "from requests.packages.urllib3.exceptions import InsecureRequestWarning\n",
    "requests.packages.urllib3.disable_warnings(InsecureRequestWarning)\n",
    "import csv\n",
    "import pandas as pd"
   ]
  },
  {
   "cell_type": "code",
   "execution_count": 42,
   "metadata": {},
   "outputs": [],
   "source": [
    "r = requests.get('https://api.exchangeratesapi.io/latest?base=SGD', verify=False)\n"
   ]
  },
  {
   "cell_type": "code",
   "execution_count": 22,
   "metadata": {},
   "outputs": [
    {
     "data": {
      "text/plain": [
       "{'rates': {'CAD': 0.9897128719,\n",
       "  'HKD': 5.4728172407,\n",
       "  'ISK': 103.7176899538,\n",
       "  'PHP': 35.7204245068,\n",
       "  'DKK': 4.8578683508,\n",
       "  'HUF': 228.0552119279,\n",
       "  'CZK': 17.5649456345,\n",
       "  'GBP': 0.5668337782,\n",
       "  'RON': 3.1421316492,\n",
       "  'SEK': 6.9652972199,\n",
       "  'IDR': 10660.153655837,\n",
       "  'INR': 53.4823230679,\n",
       "  'BRL': 3.8788983658,\n",
       "  'RUB': 52.3935803112,\n",
       "  'HRK': 4.9309850902,\n",
       "  'JPY': 75.3369359984,\n",
       "  'THB': 22.8699785142,\n",
       "  'CHF': 0.6852659678,\n",
       "  'EUR': 0.651084055,\n",
       "  'MYR': 3.0388697181,\n",
       "  'BGN': 1.2733901947,\n",
       "  'TRY': 5.0046226968,\n",
       "  'CNY': 4.9856761508,\n",
       "  'NOK': 7.274562146,\n",
       "  'NZD': 1.1660915424,\n",
       "  'ZAR': 12.9577446448,\n",
       "  'USD': 0.7059704408,\n",
       "  'MXN': 16.8533107624,\n",
       "  'SGD': 1.0,\n",
       "  'AUD': 1.0954489225,\n",
       "  'ILS': 2.4866853311,\n",
       "  'KRW': 862.5626668403,\n",
       "  'PLN': 2.9504525034},\n",
       " 'base': 'SGD',\n",
       " 'date': '2020-05-05'}"
      ]
     },
     "execution_count": 22,
     "metadata": {},
     "output_type": "execute_result"
    }
   ],
   "source": [
    "j = r.json()\n",
    "j"
   ]
  },
  {
   "cell_type": "code",
   "execution_count": 71,
   "metadata": {},
   "outputs": [
    {
     "data": {
      "text/plain": [
       "{'CAD': 0.9838814931,\n",
       " 'HKD': 5.501174628,\n",
       " 'ISK': 103.9545810493,\n",
       " 'PHP': 35.7426259462,\n",
       " 'DKK': 4.8671365179,\n",
       " 'HUF': 230.1748890629,\n",
       " 'CZK': 17.6827199165,\n",
       " 'GBP': 0.5671169407,\n",
       " 'RON': 3.1604672409,\n",
       " 'SEK': 6.9589532759,\n",
       " 'IDR': 10557.3283737927,\n",
       " 'INR': 53.2568519969,\n",
       " 'BRL': 3.8217828243,\n",
       " 'RUB': 52.1352127382,\n",
       " 'HRK': 4.9458365962,\n",
       " 'JPY': 75.6134168624,\n",
       " 'THB': 22.980944923,\n",
       " 'CHF': 0.6889845993,\n",
       " 'EUR': 0.6525711303,\n",
       " 'MYR': 3.0518794049,\n",
       " 'BGN': 1.2762986165,\n",
       " 'TRY': 4.9581701906,\n",
       " 'CNY': 5.0029365701,\n",
       " 'NOK': 7.2983555208,\n",
       " 'NZD': 1.1553771861,\n",
       " 'ZAR': 12.8277212216,\n",
       " 'USD': 0.7097363613,\n",
       " 'MXN': 16.8332680762,\n",
       " 'SGD': 1.0,\n",
       " 'AUD': 1.083137562,\n",
       " 'ILS': 2.4842730358,\n",
       " 'KRW': 856.8846254242,\n",
       " 'PLN': 2.9584964761}"
      ]
     },
     "execution_count": 71,
     "metadata": {},
     "output_type": "execute_result"
    }
   ],
   "source": [
    "oldrates = j['rates']\n",
    "oldrates"
   ]
  },
  {
   "cell_type": "code",
   "execution_count": 43,
   "metadata": {},
   "outputs": [],
   "source": [
    "f = open ('latest_currency.csv', 'w',encoding = \"utf8\", newline = '')"
   ]
  },
  {
   "cell_type": "code",
   "execution_count": 44,
   "metadata": {},
   "outputs": [],
   "source": [
    "writer = csv.DictWriter(f, fieldnames= ['Country','Rate to SGD'])\n",
    "writer.writeheader()"
   ]
  },
  {
   "cell_type": "code",
   "execution_count": 29,
   "metadata": {},
   "outputs": [
    {
     "data": {
      "text/plain": [
       "0.9897128719"
      ]
     },
     "execution_count": 29,
     "metadata": {},
     "output_type": "execute_result"
    }
   ],
   "source": [
    "rates = j['rates']\n",
    "rates['CAD']"
   ]
  },
  {
   "cell_type": "code",
   "execution_count": 45,
   "metadata": {},
   "outputs": [],
   "source": [
    "for row in rates: \n",
    "    if row != 'SGD':\n",
    "        writer.writerow({'Country': row, 'Rate to SGD': rates[row]})"
   ]
  },
  {
   "cell_type": "code",
   "execution_count": 46,
   "metadata": {},
   "outputs": [],
   "source": [
    "f.close()"
   ]
  },
  {
   "cell_type": "code",
   "execution_count": 47,
   "metadata": {},
   "outputs": [
    {
     "data": {
      "text/html": [
       "<div>\n",
       "<style scoped>\n",
       "    .dataframe tbody tr th:only-of-type {\n",
       "        vertical-align: middle;\n",
       "    }\n",
       "\n",
       "    .dataframe tbody tr th {\n",
       "        vertical-align: top;\n",
       "    }\n",
       "\n",
       "    .dataframe thead th {\n",
       "        text-align: right;\n",
       "    }\n",
       "</style>\n",
       "<table border=\"1\" class=\"dataframe\">\n",
       "  <thead>\n",
       "    <tr style=\"text-align: right;\">\n",
       "      <th></th>\n",
       "      <th>Country</th>\n",
       "      <th>Rate to SGD</th>\n",
       "    </tr>\n",
       "  </thead>\n",
       "  <tbody>\n",
       "    <tr>\n",
       "      <th>0</th>\n",
       "      <td>CAD</td>\n",
       "      <td>0.989713</td>\n",
       "    </tr>\n",
       "    <tr>\n",
       "      <th>1</th>\n",
       "      <td>HKD</td>\n",
       "      <td>5.472817</td>\n",
       "    </tr>\n",
       "    <tr>\n",
       "      <th>2</th>\n",
       "      <td>ISK</td>\n",
       "      <td>103.717690</td>\n",
       "    </tr>\n",
       "    <tr>\n",
       "      <th>3</th>\n",
       "      <td>PHP</td>\n",
       "      <td>35.720425</td>\n",
       "    </tr>\n",
       "    <tr>\n",
       "      <th>4</th>\n",
       "      <td>DKK</td>\n",
       "      <td>4.857868</td>\n",
       "    </tr>\n",
       "    <tr>\n",
       "      <th>5</th>\n",
       "      <td>HUF</td>\n",
       "      <td>228.055212</td>\n",
       "    </tr>\n",
       "    <tr>\n",
       "      <th>6</th>\n",
       "      <td>CZK</td>\n",
       "      <td>17.564946</td>\n",
       "    </tr>\n",
       "    <tr>\n",
       "      <th>7</th>\n",
       "      <td>GBP</td>\n",
       "      <td>0.566834</td>\n",
       "    </tr>\n",
       "    <tr>\n",
       "      <th>8</th>\n",
       "      <td>RON</td>\n",
       "      <td>3.142132</td>\n",
       "    </tr>\n",
       "    <tr>\n",
       "      <th>9</th>\n",
       "      <td>SEK</td>\n",
       "      <td>6.965297</td>\n",
       "    </tr>\n",
       "  </tbody>\n",
       "</table>\n",
       "</div>"
      ],
      "text/plain": [
       "  Country  Rate to SGD\n",
       "0     CAD     0.989713\n",
       "1     HKD     5.472817\n",
       "2     ISK   103.717690\n",
       "3     PHP    35.720425\n",
       "4     DKK     4.857868\n",
       "5     HUF   228.055212\n",
       "6     CZK    17.564946\n",
       "7     GBP     0.566834\n",
       "8     RON     3.142132\n",
       "9     SEK     6.965297"
      ]
     },
     "execution_count": 47,
     "metadata": {},
     "output_type": "execute_result"
    }
   ],
   "source": [
    "df = pd.read_csv('latest_currency.csv')\n",
    "df.head(10)"
   ]
  },
  {
   "cell_type": "code",
   "execution_count": 57,
   "metadata": {
    "scrolled": true
   },
   "outputs": [
    {
     "data": {
      "text/html": [
       "<div>\n",
       "<style scoped>\n",
       "    .dataframe tbody tr th:only-of-type {\n",
       "        vertical-align: middle;\n",
       "    }\n",
       "\n",
       "    .dataframe tbody tr th {\n",
       "        vertical-align: top;\n",
       "    }\n",
       "\n",
       "    .dataframe thead th {\n",
       "        text-align: right;\n",
       "    }\n",
       "</style>\n",
       "<table border=\"1\" class=\"dataframe\">\n",
       "  <thead>\n",
       "    <tr style=\"text-align: right;\">\n",
       "      <th></th>\n",
       "      <th>Country</th>\n",
       "      <th>Rate to SGD</th>\n",
       "    </tr>\n",
       "  </thead>\n",
       "  <tbody>\n",
       "    <tr>\n",
       "      <th>0</th>\n",
       "      <td>CAD</td>\n",
       "      <td>0.983881</td>\n",
       "    </tr>\n",
       "    <tr>\n",
       "      <th>1</th>\n",
       "      <td>HKD</td>\n",
       "      <td>5.501175</td>\n",
       "    </tr>\n",
       "    <tr>\n",
       "      <th>2</th>\n",
       "      <td>ISK</td>\n",
       "      <td>103.954581</td>\n",
       "    </tr>\n",
       "    <tr>\n",
       "      <th>3</th>\n",
       "      <td>PHP</td>\n",
       "      <td>35.742626</td>\n",
       "    </tr>\n",
       "    <tr>\n",
       "      <th>4</th>\n",
       "      <td>DKK</td>\n",
       "      <td>4.867137</td>\n",
       "    </tr>\n",
       "    <tr>\n",
       "      <th>5</th>\n",
       "      <td>HUF</td>\n",
       "      <td>230.174889</td>\n",
       "    </tr>\n",
       "    <tr>\n",
       "      <th>6</th>\n",
       "      <td>CZK</td>\n",
       "      <td>17.682720</td>\n",
       "    </tr>\n",
       "    <tr>\n",
       "      <th>7</th>\n",
       "      <td>GBP</td>\n",
       "      <td>0.567117</td>\n",
       "    </tr>\n",
       "    <tr>\n",
       "      <th>8</th>\n",
       "      <td>RON</td>\n",
       "      <td>3.160467</td>\n",
       "    </tr>\n",
       "    <tr>\n",
       "      <th>9</th>\n",
       "      <td>SEK</td>\n",
       "      <td>6.958953</td>\n",
       "    </tr>\n",
       "  </tbody>\n",
       "</table>\n",
       "</div>"
      ],
      "text/plain": [
       "  Country  Rate to SGD\n",
       "0     CAD     0.983881\n",
       "1     HKD     5.501175\n",
       "2     ISK   103.954581\n",
       "3     PHP    35.742626\n",
       "4     DKK     4.867137\n",
       "5     HUF   230.174889\n",
       "6     CZK    17.682720\n",
       "7     GBP     0.567117\n",
       "8     RON     3.160467\n",
       "9     SEK     6.958953"
      ]
     },
     "execution_count": 57,
     "metadata": {},
     "output_type": "execute_result"
    }
   ],
   "source": [
    "import requests\n",
    "from requests.packages.urllib3.exceptions import InsecureRequestWarning\n",
    "requests.packages.urllib3.disable_warnings(InsecureRequestWarning)\n",
    "import csv\n",
    "import pandas as pd\n",
    "r = requests.get('https://api.exchangeratesapi.io/2020-04-30?base=SGD', verify=False)\n",
    "j = r.json()\n",
    "f = open ('last_currency.csv', 'w',encoding = \"utf8\", newline = '')\n",
    "writer = csv.DictWriter(f, fieldnames= ['Country','Rate to SGD'])\n",
    "writer.writeheader()\n",
    "rates = j['rates']\n",
    "for row in rates: \n",
    "    if row != 'SGD':\n",
    "        writer.writerow({'Country': row, 'Rate to SGD': rates[row]})\n",
    "f.close()\n",
    "df = pd.read_csv('last_currency.csv')\n",
    "df.head(10)"
   ]
  },
  {
   "cell_type": "code",
   "execution_count": 12,
   "metadata": {},
   "outputs": [],
   "source": [
    "r = requests.get('https://api.exchangeratesapi.io/latest?base=SGD', verify=False)\n",
    "j = r.json()\n",
    "f = open ('latest_currency.csv', 'a',encoding = \"utf8\", newline = '')"
   ]
  },
  {
   "cell_type": "code",
   "execution_count": 64,
   "metadata": {},
   "outputs": [
    {
     "ename": "SyntaxError",
     "evalue": "invalid syntax (<ipython-input-64-e635f527d17f>, line 2)",
     "output_type": "error",
     "traceback": [
      "\u001b[0;36m  File \u001b[0;32m\"<ipython-input-64-e635f527d17f>\"\u001b[0;36m, line \u001b[0;32m2\u001b[0m\n\u001b[0;31m    for row in reader:\u001b[0m\n\u001b[0m                     ^\u001b[0m\n\u001b[0;31mSyntaxError\u001b[0m\u001b[0;31m:\u001b[0m invalid syntax\n"
     ]
    }
   ],
   "source": [
    "reader = csv.DictReader(open ('last_currency.csv', 'r')\n",
    "for row in reader:\n",
    "                        past_rates = row['Rate to SGD']\n",
    "                        \n",
    "past_rates"
   ]
  },
  {
   "cell_type": "code",
   "execution_count": 72,
   "metadata": {},
   "outputs": [],
   "source": [
    "reader = csv.DictReader(open('last_currency.csv', 'r'))"
   ]
  },
  {
   "cell_type": "code",
   "execution_count": 78,
   "metadata": {},
   "outputs": [
    {
     "data": {
      "text/plain": [
       "dict_items([('CAD', 0.9838814931), ('HKD', 5.501174628), ('ISK', 103.9545810493), ('PHP', 35.7426259462), ('DKK', 4.8671365179), ('HUF', 230.1748890629), ('CZK', 17.6827199165), ('GBP', 0.5671169407), ('RON', 3.1604672409), ('SEK', 6.9589532759), ('IDR', 10557.3283737927), ('INR', 53.2568519969), ('BRL', 3.8217828243), ('RUB', 52.1352127382), ('HRK', 4.9458365962), ('JPY', 75.6134168624), ('THB', 22.980944923), ('CHF', 0.6889845993), ('EUR', 0.6525711303), ('MYR', 3.0518794049), ('BGN', 1.2762986165), ('TRY', 4.9581701906), ('CNY', 5.0029365701), ('NOK', 7.2983555208), ('NZD', 1.1553771861), ('ZAR', 12.8277212216), ('USD', 0.7097363613), ('MXN', 16.8332680762), ('SGD', 1.0), ('AUD', 1.083137562), ('ILS', 2.4842730358), ('KRW', 856.8846254242), ('PLN', 2.9584964761)])"
      ]
     },
     "execution_count": 78,
     "metadata": {},
     "output_type": "execute_result"
    }
   ],
   "source": [
    "r1 = requests.get('https://api.exchangeratesapi.io/latest?base=SGD', verify=False)\n",
    "j1 = r.json()\n",
    "newrates = j1['rates']\n",
    "newrates.items()"
   ]
  },
  {
   "cell_type": "code",
   "execution_count": 75,
   "metadata": {},
   "outputs": [
    {
     "ename": "SyntaxError",
     "evalue": "unexpected EOF while parsing (<ipython-input-75-2b320b161ef0>, line 1)",
     "output_type": "error",
     "traceback": [
      "\u001b[0;36m  File \u001b[0;32m\"<ipython-input-75-2b320b161ef0>\"\u001b[0;36m, line \u001b[0;32m1\u001b[0m\n\u001b[0;31m    list(zip(newrates.value(),oldrates.value())\u001b[0m\n\u001b[0m                                               ^\u001b[0m\n\u001b[0;31mSyntaxError\u001b[0m\u001b[0;31m:\u001b[0m unexpected EOF while parsing\n"
     ]
    }
   ],
   "source": [
    "list(zip(newrates.value(),oldrates.value())"
   ]
  },
  {
   "cell_type": "code",
   "execution_count": 5,
   "metadata": {},
   "outputs": [
    {
     "data": {
      "text/html": [
       "<div>\n",
       "<style scoped>\n",
       "    .dataframe tbody tr th:only-of-type {\n",
       "        vertical-align: middle;\n",
       "    }\n",
       "\n",
       "    .dataframe tbody tr th {\n",
       "        vertical-align: top;\n",
       "    }\n",
       "\n",
       "    .dataframe thead th {\n",
       "        text-align: right;\n",
       "    }\n",
       "</style>\n",
       "<table border=\"1\" class=\"dataframe\">\n",
       "  <thead>\n",
       "    <tr style=\"text-align: right;\">\n",
       "      <th></th>\n",
       "      <th>Country</th>\n",
       "      <th>Rate to SGD</th>\n",
       "      <th>Rise/Fall</th>\n",
       "      <th>percentage change</th>\n",
       "    </tr>\n",
       "  </thead>\n",
       "  <tbody>\n",
       "    <tr>\n",
       "      <th>0</th>\n",
       "      <td>CAD</td>\n",
       "      <td>0.991766</td>\n",
       "      <td>Rise</td>\n",
       "      <td>0.11</td>\n",
       "    </tr>\n",
       "    <tr>\n",
       "      <th>1</th>\n",
       "      <td>HKD</td>\n",
       "      <td>5.461674</td>\n",
       "      <td>Rise</td>\n",
       "      <td>0.01</td>\n",
       "    </tr>\n",
       "    <tr>\n",
       "      <th>2</th>\n",
       "      <td>ISK</td>\n",
       "      <td>103.966543</td>\n",
       "      <td>Fall</td>\n",
       "      <td>-0.08</td>\n",
       "    </tr>\n",
       "    <tr>\n",
       "      <th>3</th>\n",
       "      <td>PHP</td>\n",
       "      <td>35.611972</td>\n",
       "      <td>Rise</td>\n",
       "      <td>0.02</td>\n",
       "    </tr>\n",
       "    <tr>\n",
       "      <th>4</th>\n",
       "      <td>DKK</td>\n",
       "      <td>4.875188</td>\n",
       "      <td>Fall</td>\n",
       "      <td>-0.19</td>\n",
       "    </tr>\n",
       "    <tr>\n",
       "      <th>5</th>\n",
       "      <td>HUF</td>\n",
       "      <td>228.295106</td>\n",
       "      <td>Fall</td>\n",
       "      <td>-0.14</td>\n",
       "    </tr>\n",
       "    <tr>\n",
       "      <th>6</th>\n",
       "      <td>CZK</td>\n",
       "      <td>17.746847</td>\n",
       "      <td>Fall</td>\n",
       "      <td>-0.84</td>\n",
       "    </tr>\n",
       "    <tr>\n",
       "      <th>7</th>\n",
       "      <td>GBP</td>\n",
       "      <td>0.571640</td>\n",
       "      <td>Fall</td>\n",
       "      <td>-0.47</td>\n",
       "    </tr>\n",
       "    <tr>\n",
       "      <th>8</th>\n",
       "      <td>RON</td>\n",
       "      <td>3.151996</td>\n",
       "      <td>Fall</td>\n",
       "      <td>-0.21</td>\n",
       "    </tr>\n",
       "    <tr>\n",
       "      <th>9</th>\n",
       "      <td>SEK</td>\n",
       "      <td>6.939816</td>\n",
       "      <td>Fall</td>\n",
       "      <td>-0.14</td>\n",
       "    </tr>\n",
       "    <tr>\n",
       "      <th>10</th>\n",
       "      <td>IDR</td>\n",
       "      <td>10601.202379</td>\n",
       "      <td>Rise</td>\n",
       "      <td>0.01</td>\n",
       "    </tr>\n",
       "    <tr>\n",
       "      <th>11</th>\n",
       "      <td>INR</td>\n",
       "      <td>53.432987</td>\n",
       "      <td>Rise</td>\n",
       "      <td>0.05</td>\n",
       "    </tr>\n",
       "    <tr>\n",
       "      <th>12</th>\n",
       "      <td>BRL</td>\n",
       "      <td>4.069202</td>\n",
       "      <td>Fall</td>\n",
       "      <td>-2.47</td>\n",
       "    </tr>\n",
       "    <tr>\n",
       "      <th>13</th>\n",
       "      <td>RUB</td>\n",
       "      <td>52.002941</td>\n",
       "      <td>Rise</td>\n",
       "      <td>1.28</td>\n",
       "    </tr>\n",
       "    <tr>\n",
       "      <th>14</th>\n",
       "      <td>HRK</td>\n",
       "      <td>4.944455</td>\n",
       "      <td>Fall</td>\n",
       "      <td>-0.18</td>\n",
       "    </tr>\n",
       "    <tr>\n",
       "      <th>15</th>\n",
       "      <td>JPY</td>\n",
       "      <td>75.089852</td>\n",
       "      <td>Fall</td>\n",
       "      <td>-0.44</td>\n",
       "    </tr>\n",
       "    <tr>\n",
       "      <th>16</th>\n",
       "      <td>THB</td>\n",
       "      <td>22.851075</td>\n",
       "      <td>Fall</td>\n",
       "      <td>-0.11</td>\n",
       "    </tr>\n",
       "    <tr>\n",
       "      <th>17</th>\n",
       "      <td>CHF</td>\n",
       "      <td>0.688100</td>\n",
       "      <td>Fall</td>\n",
       "      <td>-0.21</td>\n",
       "    </tr>\n",
       "    <tr>\n",
       "      <th>18</th>\n",
       "      <td>EUR</td>\n",
       "      <td>0.653467</td>\n",
       "      <td>Fall</td>\n",
       "      <td>-0.21</td>\n",
       "    </tr>\n",
       "    <tr>\n",
       "      <th>19</th>\n",
       "      <td>MYR</td>\n",
       "      <td>3.047180</td>\n",
       "      <td>Fall</td>\n",
       "      <td>-0.03</td>\n",
       "    </tr>\n",
       "    <tr>\n",
       "      <th>20</th>\n",
       "      <td>BGN</td>\n",
       "      <td>1.278050</td>\n",
       "      <td>Fall</td>\n",
       "      <td>-0.21</td>\n",
       "    </tr>\n",
       "    <tr>\n",
       "      <th>21</th>\n",
       "      <td>TRY</td>\n",
       "      <td>5.083448</td>\n",
       "      <td>Fall</td>\n",
       "      <td>-1.01</td>\n",
       "    </tr>\n",
       "    <tr>\n",
       "      <th>22</th>\n",
       "      <td>CNY</td>\n",
       "      <td>4.994249</td>\n",
       "      <td>Rise</td>\n",
       "      <td>0.16</td>\n",
       "    </tr>\n",
       "    <tr>\n",
       "      <th>23</th>\n",
       "      <td>NOK</td>\n",
       "      <td>7.214598</td>\n",
       "      <td>Rise</td>\n",
       "      <td>0.24</td>\n",
       "    </tr>\n",
       "    <tr>\n",
       "      <th>24</th>\n",
       "      <td>NZD</td>\n",
       "      <td>1.164478</td>\n",
       "      <td>Fall</td>\n",
       "      <td>-0.10</td>\n",
       "    </tr>\n",
       "    <tr>\n",
       "      <th>25</th>\n",
       "      <td>ZAR</td>\n",
       "      <td>13.114945</td>\n",
       "      <td>Fall</td>\n",
       "      <td>-0.26</td>\n",
       "    </tr>\n",
       "    <tr>\n",
       "      <th>26</th>\n",
       "      <td>USD</td>\n",
       "      <td>0.704633</td>\n",
       "      <td>Rise</td>\n",
       "      <td>0.01</td>\n",
       "    </tr>\n",
       "    <tr>\n",
       "      <th>27</th>\n",
       "      <td>MXN</td>\n",
       "      <td>17.034372</td>\n",
       "      <td>Fall</td>\n",
       "      <td>-0.28</td>\n",
       "    </tr>\n",
       "    <tr>\n",
       "      <th>28</th>\n",
       "      <td>AUD</td>\n",
       "      <td>1.091551</td>\n",
       "      <td>Rise</td>\n",
       "      <td>1.80</td>\n",
       "    </tr>\n",
       "    <tr>\n",
       "      <th>29</th>\n",
       "      <td>ILS</td>\n",
       "      <td>2.475397</td>\n",
       "      <td>Fall</td>\n",
       "      <td>-0.12</td>\n",
       "    </tr>\n",
       "    <tr>\n",
       "      <th>30</th>\n",
       "      <td>KRW</td>\n",
       "      <td>862.693589</td>\n",
       "      <td>Rise</td>\n",
       "      <td>0.04</td>\n",
       "    </tr>\n",
       "    <tr>\n",
       "      <th>31</th>\n",
       "      <td>PLN</td>\n",
       "      <td>2.971117</td>\n",
       "      <td>Fall</td>\n",
       "      <td>-0.37</td>\n",
       "    </tr>\n",
       "  </tbody>\n",
       "</table>\n",
       "</div>"
      ],
      "text/plain": [
       "   Country   Rate to SGD Rise/Fall  percentage change\n",
       "0      CAD      0.991766      Rise               0.11\n",
       "1      HKD      5.461674      Rise               0.01\n",
       "2      ISK    103.966543      Fall              -0.08\n",
       "3      PHP     35.611972      Rise               0.02\n",
       "4      DKK      4.875188      Fall              -0.19\n",
       "5      HUF    228.295106      Fall              -0.14\n",
       "6      CZK     17.746847      Fall              -0.84\n",
       "7      GBP      0.571640      Fall              -0.47\n",
       "8      RON      3.151996      Fall              -0.21\n",
       "9      SEK      6.939816      Fall              -0.14\n",
       "10     IDR  10601.202379      Rise               0.01\n",
       "11     INR     53.432987      Rise               0.05\n",
       "12     BRL      4.069202      Fall              -2.47\n",
       "13     RUB     52.002941      Rise               1.28\n",
       "14     HRK      4.944455      Fall              -0.18\n",
       "15     JPY     75.089852      Fall              -0.44\n",
       "16     THB     22.851075      Fall              -0.11\n",
       "17     CHF      0.688100      Fall              -0.21\n",
       "18     EUR      0.653467      Fall              -0.21\n",
       "19     MYR      3.047180      Fall              -0.03\n",
       "20     BGN      1.278050      Fall              -0.21\n",
       "21     TRY      5.083448      Fall              -1.01\n",
       "22     CNY      4.994249      Rise               0.16\n",
       "23     NOK      7.214598      Rise               0.24\n",
       "24     NZD      1.164478      Fall              -0.10\n",
       "25     ZAR     13.114945      Fall              -0.26\n",
       "26     USD      0.704633      Rise               0.01\n",
       "27     MXN     17.034372      Fall              -0.28\n",
       "28     AUD      1.091551      Rise               1.80\n",
       "29     ILS      2.475397      Fall              -0.12\n",
       "30     KRW    862.693589      Rise               0.04\n",
       "31     PLN      2.971117      Fall              -0.37"
      ]
     },
     "execution_count": 5,
     "metadata": {},
     "output_type": "execute_result"
    }
   ],
   "source": [
    "import requests\n",
    "from requests.packages.urllib3.exceptions import InsecureRequestWarning\n",
    "requests.packages.urllib3.disable_warnings(InsecureRequestWarning)\n",
    "import csv\n",
    "import pandas as pd\n",
    "import datetime\n",
    "main_url = 'https://api.exchangeratesapi.io/'\n",
    "base = '?base=SGD'\n",
    "\n",
    "## Latest currency\n",
    "today = datetime.date.today()\n",
    "today_url = main_url + str(today) + base\n",
    "r0 = requests.get(today_url, verify=False)\n",
    "j0 = r0.json()\n",
    "newrates = j0['rates']\n",
    "\n",
    "## Previous currency\n",
    "for i in range(1,31): \n",
    "    prev = today - datetime.timedelta(days=i)\n",
    "    prev_url =  main_url + str(prev) + base \n",
    "    r1 = requests.get(prev_url, verify=False)\n",
    "    j1 = r1.json()\n",
    "    if j1 != j0: \n",
    "        break \n",
    "        \n",
    "prevrates = j1['rates']\n",
    "\n",
    "fp = open ('latest_currency.csv', 'w', encoding = \"utf8\", newline = '')\n",
    "new_writer = csv.DictWriter(fp, fieldnames= ['Country','Rate to SGD','Rise/Fall','percentage change'])\n",
    "new_writer.writeheader()\n",
    "for row in newrates: \n",
    "    if row != 'SGD' :\n",
    "        percent = ((prevrates[row] - newrates[row])/prevrates[row])*100\n",
    "        if percent > 0 :\n",
    "            new_writer.writerow({'Country': row,'Rate to SGD': newrates[row], 'Rise/Fall': 'Rise', 'percentage change': \"%.2f\" % percent})\n",
    "        if percent < 0: \n",
    "            new_writer.writerow({'Country': row,'Rate to SGD': newrates[row], 'Rise/Fall': 'Fall', 'percentage change': \"%.2f\" % percent})      \n",
    "fp.close()\n",
    "df = pd.read_csv('latest_currency.csv')\n",
    "df"
   ]
  },
  {
   "cell_type": "code",
   "execution_count": 3,
   "metadata": {},
   "outputs": [
    {
     "name": "stdout",
     "output_type": "stream",
     "text": [
      "2020-05-06\n"
     ]
    }
   ],
   "source": [
    "print (prev)"
   ]
  },
  {
   "cell_type": "code",
   "execution_count": 4,
   "metadata": {},
   "outputs": [
    {
     "name": "stdout",
     "output_type": "stream",
     "text": [
      "2020-05-08\n"
     ]
    }
   ],
   "source": [
    "print (today)\n"
   ]
  },
  {
   "cell_type": "code",
   "execution_count": 6,
   "metadata": {},
   "outputs": [
    {
     "data": {
      "text/plain": [
       "2674"
      ]
     },
     "execution_count": 6,
     "metadata": {},
     "output_type": "execute_result"
    }
   ],
   "source": [
    "import os\n",
    "os.getpid()"
   ]
  },
  {
   "cell_type": "code",
   "execution_count": null,
   "metadata": {},
   "outputs": [],
   "source": []
  }
 ],
 "metadata": {
  "kernelspec": {
   "display_name": "Python 3",
   "language": "python",
   "name": "python3"
  },
  "language_info": {
   "codemirror_mode": {
    "name": "ipython",
    "version": 3
   },
   "file_extension": ".py",
   "mimetype": "text/x-python",
   "name": "python",
   "nbconvert_exporter": "python",
   "pygments_lexer": "ipython3",
   "version": "3.8.2"
  }
 },
 "nbformat": 4,
 "nbformat_minor": 4
}
