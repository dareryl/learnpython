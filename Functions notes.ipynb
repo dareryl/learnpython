{
 "cells": [
  {
   "cell_type": "markdown",
   "metadata": {},
   "source": [
    "Do not forget to annote with the colons : when defining a function\n",
    "\n",
    "def function(parameters) : \n",
    "   ... \n",
    "   \n",
    "Also notice that the return keyword does not have the outer brackets (  )"
   ]
  },
  {
   "cell_type": "code",
   "execution_count": 24,
   "metadata": {},
   "outputs": [
    {
     "name": "stdout",
     "output_type": "stream",
     "text": [
      "49\n"
     ]
    }
   ],
   "source": [
    "def square_of_7():\n",
    "    return 7**2\n",
    "\n",
    "print(square_of_7())"
   ]
  },
  {
   "cell_type": "code",
   "execution_count": 22,
   "metadata": {},
   "outputs": [
    {
     "name": "stdout",
     "output_type": "stream",
     "text": [
      "0.4\n"
     ]
    }
   ],
   "source": [
    "def divide(num1,num2):\n",
    "    return num1/num2\n",
    "\n",
    "print(divide(2,5))"
   ]
  },
  {
   "cell_type": "code",
   "execution_count": 21,
   "metadata": {
    "scrolled": true
   },
   "outputs": [
    {
     "name": "stdout",
     "output_type": "stream",
     "text": [
      "0.4\n"
     ]
    }
   ],
   "source": [
    "def divide(num1,num2):\n",
    "    return num1/num2\n",
    "\n",
    "X = divide(2,5)\n",
    "print(X)"
   ]
  },
  {
   "cell_type": "code",
   "execution_count": 19,
   "metadata": {},
   "outputs": [
    {
     "name": "stdout",
     "output_type": "stream",
     "text": [
      "8\n"
     ]
    }
   ],
   "source": [
    "def exponent (num, power):\n",
    "    return num**power\n",
    "\n",
    "print(exponent(2,3))"
   ]
  },
  {
   "cell_type": "code",
   "execution_count": 23,
   "metadata": {},
   "outputs": [
    {
     "name": "stdout",
     "output_type": "stream",
     "text": [
      "8\n",
      "4\n"
     ]
    }
   ],
   "source": [
    "def exponent (num, power=2):\n",
    "    return num**power\n",
    "\n",
    "print(exponent(2,3))\n",
    "print(exponent(2))"
   ]
  },
  {
   "cell_type": "code",
   "execution_count": 26,
   "metadata": {},
   "outputs": [
    {
     "name": "stdout",
     "output_type": "stream",
     "text": [
      "Hello Kate, Good morning!\n",
      "Hello Bruce, How do you do?\n"
     ]
    }
   ],
   "source": [
    "def greet(name, msg=\"Good morning!\"):\n",
    "\n",
    "    print(\"Hello\", name + ', ' + msg)\n",
    "\n",
    "\n",
    "greet(\"Kate\")\n",
    "greet(\"Bruce\", \"How do you do?\")"
   ]
  },
  {
   "cell_type": "markdown",
   "metadata": {},
   "source": [
    "The above examples of exponent function and greeting function are to show the way to insert a default value for parameter inputs, if not arugment is entered for the parameter\n",
    "\n",
    "The default values should be entered at the start of defining the function, as seen in def exponent(num, power = 2):\n",
    "\n",
    "Side note: Also notice how the print can be swapped out for return so that print does not have to keyed in when asking for the result of the function"
   ]
  },
  {
   "cell_type": "code",
   "execution_count": 4,
   "metadata": {},
   "outputs": [
    {
     "name": "stdout",
     "output_type": "stream",
     "text": [
      "2.5\n"
     ]
    }
   ],
   "source": [
    "def divide(num2,num1):\n",
    "    return num1/num2\n",
    "\n",
    "X = divide(2,5)\n",
    "print(X)"
   ]
  },
  {
   "cell_type": "code",
   "execution_count": 2,
   "metadata": {},
   "outputs": [
    {
     "name": "stdout",
     "output_type": "stream",
     "text": [
      "1\n"
     ]
    }
   ],
   "source": [
    "def sum_odd_numbers(numbers):\n",
    "    \n",
    "    total = 0\n",
    "    for num in numbers:\n",
    "        if num % 2 != 0:\n",
    "            total += num\n",
    "        return total\n",
    "\n",
    "print(sum_odd_numbers([1,2,3,4,5,6]))"
   ]
  },
  {
   "cell_type": "code",
   "execution_count": 1,
   "metadata": {},
   "outputs": [
    {
     "name": "stdout",
     "output_type": "stream",
     "text": [
      "9\n"
     ]
    }
   ],
   "source": [
    "def sum_odd_numbers(numbers):\n",
    "    \n",
    "    total = 0\n",
    "    for num in numbers:\n",
    "        if num % 2 != 0:\n",
    "            total += num\n",
    "    return total\n",
    "\n",
    "print(sum_odd_numbers([1,2,3,4,5,6]))"
   ]
  },
  {
   "cell_type": "markdown",
   "metadata": {},
   "source": [
    "! Important !\n",
    "\n",
    "The above 2 examples of the function sum_odd_numbers(numbers)\n",
    "\n",
    "has a difference in syntax, and it is the indentation postion of the return keyword\n",
    "\n",
    "Recall that the return keyword serves the purpose of breaking code.\n",
    "\n",
    "Observe in the error example that gives result of '1', that the positioning of the reutrn hence breaks the code after the first loop."
   ]
  },
  {
   "cell_type": "code",
   "execution_count": 15,
   "metadata": {},
   "outputs": [
    {
     "data": {
      "text/plain": [
       "True"
      ]
     },
     "execution_count": 15,
     "metadata": {},
     "output_type": "execute_result"
    }
   ],
   "source": [
    "def sum_odd_numbers(val):\n",
    "\n",
    "    if val %2 !=0:\n",
    "        return True\n",
    "    else: \n",
    "        return False\n",
    "     \n",
    "sum_odd_numbers(3)"
   ]
  },
  {
   "cell_type": "code",
   "execution_count": 18,
   "metadata": {},
   "outputs": [
    {
     "data": {
      "text/plain": [
       "True"
      ]
     },
     "execution_count": 18,
     "metadata": {},
     "output_type": "execute_result"
    }
   ],
   "source": [
    "def sum_odd_numbers(val):\n",
    "\n",
    "    if val %2 !=0:\n",
    "        return True\n",
    "    return False\n",
    "    \n",
    "sum_odd_numbers(3)"
   ]
  },
  {
   "cell_type": "markdown",
   "metadata": {},
   "source": [
    "The returning True of False example is 'mistake' no. 2\n",
    "\n",
    "It is not really a mistake, but more of redudant code\n",
    "\n",
    "Recall that return and the indentation position of return is serves the purpose of 'breaking code', so technically there is no need for the\n",
    "\n",
    "'else' portion of the if..else loop"
   ]
  },
  {
   "cell_type": "code",
   "execution_count": 34,
   "metadata": {},
   "outputs": [
    {
     "name": "stdout",
     "output_type": "stream",
     "text": [
      "4\n",
      "4\n",
      "2\n"
     ]
    }
   ],
   "source": [
    "def subtract(a,b):\n",
    "    return a-b\n",
    "\n",
    "def add(a,b):\n",
    "    return a+b\n",
    "\n",
    "def mathfunction (a,b,fn=add):\n",
    "    return fn(a,b)\n",
    "\n",
    "print (mathfunction(3,1))\n",
    "print (mathfunction(3,1,add))\n",
    "print (mathfunction(3,1,subtract))"
   ]
  },
  {
   "cell_type": "markdown",
   "metadata": {},
   "source": [
    "The above example here shows that there can be a funcion within a function\n",
    "\n",
    "The inital functions here were\n",
    "\n",
    "def subtract(a,b)\n",
    "\n",
    "and \n",
    "\n",
    "def add(a,b)\n",
    "\n",
    "The embedded function here is within the def mathfunction with parameters\n",
    "\n",
    "def mathfunction (a,b,fn=add) where def add becomes the default function if there is no argument keyed in for that embedded function parameter.\n",
    "\n",
    "The default value of function is demontstrated here in\n",
    "\n",
    "print (mathfunction(3,1))"
   ]
  },
  {
   "cell_type": "markdown",
   "metadata": {},
   "source": [
    "----------------------------------------------------"
   ]
  },
  {
   "cell_type": "markdown",
   "metadata": {},
   "source": [
    "---------------Function Scooping-------------------"
   ]
  },
  {
   "cell_type": "code",
   "execution_count": 54,
   "metadata": {},
   "outputs": [
    {
     "name": "stdout",
     "output_type": "stream",
     "text": [
      "Hello Colt\n",
      "Mary\n"
     ]
    },
    {
     "ename": "NameError",
     "evalue": "name 'instructor2' is not defined",
     "output_type": "error",
     "traceback": [
      "\u001b[1;31m---------------------------------------------------------------------------\u001b[0m",
      "\u001b[1;31mNameError\u001b[0m                                 Traceback (most recent call last)",
      "\u001b[1;32m<ipython-input-54-1dd77a193aad>\u001b[0m in \u001b[0;36m<module>\u001b[1;34m\u001b[0m\n\u001b[0;32m      8\u001b[0m \u001b[1;33m\u001b[0m\u001b[0m\n\u001b[0;32m      9\u001b[0m \u001b[0mprint\u001b[0m\u001b[1;33m(\u001b[0m\u001b[0minstructor1\u001b[0m\u001b[1;33m)\u001b[0m\u001b[1;33m\u001b[0m\u001b[1;33m\u001b[0m\u001b[0m\n\u001b[1;32m---> 10\u001b[1;33m \u001b[0mprint\u001b[0m\u001b[1;33m(\u001b[0m\u001b[0minstructor2\u001b[0m\u001b[1;33m)\u001b[0m\u001b[1;33m\u001b[0m\u001b[1;33m\u001b[0m\u001b[0m\n\u001b[0m",
      "\u001b[1;31mNameError\u001b[0m: name 'instructor2' is not defined"
     ]
    }
   ],
   "source": [
    "instructor1 = \"Mary\"\n",
    "\n",
    "def say_hello():\n",
    "    instructor2 = \"Colt\"\n",
    "    return f'Hello {instructor2}'\n",
    "\n",
    "print(say_hello())\n",
    "\n",
    "print(instructor1)\n",
    "print(instructor2)"
   ]
  },
  {
   "cell_type": "markdown",
   "metadata": {},
   "source": [
    "The above is to show that if such erros occur, it is becaus of a scoping issue and that the varibale to be printed does not exsist beyond/outside the function \n"
   ]
  },
  {
   "cell_type": "code",
   "execution_count": 41,
   "metadata": {},
   "outputs": [
    {
     "name": "stdout",
     "output_type": "stream",
     "text": [
      "15\n"
     ]
    }
   ],
   "source": [
    "total = 0\n",
    "\n",
    "def increment(interval):\n",
    "    total = 10\n",
    "    total += (interval)\n",
    "    return total \n",
    "\n",
    "print(increment(5))"
   ]
  },
  {
   "cell_type": "code",
   "execution_count": 56,
   "metadata": {},
   "outputs": [
    {
     "ename": "UnboundLocalError",
     "evalue": "local variable 'total' referenced before assignment",
     "output_type": "error",
     "traceback": [
      "\u001b[1;31m---------------------------------------------------------------------------\u001b[0m",
      "\u001b[1;31mUnboundLocalError\u001b[0m                         Traceback (most recent call last)",
      "\u001b[1;32m<ipython-input-56-d32c1abb6ee8>\u001b[0m in \u001b[0;36m<module>\u001b[1;34m\u001b[0m\n\u001b[0;32m      5\u001b[0m     \u001b[1;32mreturn\u001b[0m \u001b[0mtotal\u001b[0m\u001b[1;33m\u001b[0m\u001b[1;33m\u001b[0m\u001b[0m\n\u001b[0;32m      6\u001b[0m \u001b[1;33m\u001b[0m\u001b[0m\n\u001b[1;32m----> 7\u001b[1;33m \u001b[0mprint\u001b[0m\u001b[1;33m(\u001b[0m\u001b[0mincrement\u001b[0m\u001b[1;33m(\u001b[0m\u001b[1;36m5\u001b[0m\u001b[1;33m)\u001b[0m\u001b[1;33m)\u001b[0m\u001b[1;33m\u001b[0m\u001b[1;33m\u001b[0m\u001b[0m\n\u001b[0m",
      "\u001b[1;32m<ipython-input-56-d32c1abb6ee8>\u001b[0m in \u001b[0;36mincrement\u001b[1;34m(interval)\u001b[0m\n\u001b[0;32m      2\u001b[0m \u001b[1;33m\u001b[0m\u001b[0m\n\u001b[0;32m      3\u001b[0m \u001b[1;32mdef\u001b[0m \u001b[0mincrement\u001b[0m\u001b[1;33m(\u001b[0m\u001b[0minterval\u001b[0m\u001b[1;33m)\u001b[0m\u001b[1;33m:\u001b[0m\u001b[1;33m\u001b[0m\u001b[1;33m\u001b[0m\u001b[0m\n\u001b[1;32m----> 4\u001b[1;33m     \u001b[0mtotal\u001b[0m \u001b[1;33m+=\u001b[0m \u001b[1;33m(\u001b[0m\u001b[0minterval\u001b[0m\u001b[1;33m)\u001b[0m\u001b[1;33m\u001b[0m\u001b[1;33m\u001b[0m\u001b[0m\n\u001b[0m\u001b[0;32m      5\u001b[0m     \u001b[1;32mreturn\u001b[0m \u001b[0mtotal\u001b[0m\u001b[1;33m\u001b[0m\u001b[1;33m\u001b[0m\u001b[0m\n\u001b[0;32m      6\u001b[0m \u001b[1;33m\u001b[0m\u001b[0m\n",
      "\u001b[1;31mUnboundLocalError\u001b[0m: local variable 'total' referenced before assignment"
     ]
    }
   ],
   "source": [
    "total = 0\n",
    "\n",
    "def increment(interval):\n",
    "    total += (interval)\n",
    "    return total \n",
    "\n",
    "print(increment(5))\n"
   ]
  },
  {
   "cell_type": "code",
   "execution_count": 57,
   "metadata": {},
   "outputs": [
    {
     "name": "stdout",
     "output_type": "stream",
     "text": [
      "5\n"
     ]
    }
   ],
   "source": [
    "total = 0\n",
    "\n",
    "def increment(interval):\n",
    "    global total\n",
    "    total += (interval)\n",
    "    return total \n",
    "\n",
    "print(increment(5))"
   ]
  },
  {
   "cell_type": "markdown",
   "metadata": {},
   "source": [
    "The above examples is to show that if there is a variable declared beyond (before) the function is defined, the syntax 'global' should be used"
   ]
  },
  {
   "cell_type": "code",
   "execution_count": 58,
   "metadata": {},
   "outputs": [
    {
     "name": "stdout",
     "output_type": "stream",
     "text": [
      "1\n"
     ]
    }
   ],
   "source": [
    "def outer():\n",
    "    count = 0\n",
    "    def inner():\n",
    "        nonlocal count\n",
    "        count +=1\n",
    "        return count\n",
    "    return inner()\n",
    "\n",
    "print(outer())"
   ]
  },
  {
   "cell_type": "markdown",
   "metadata": {},
   "source": [
    "The above example is just an additional point in the context of embedded functions, and this is not expected to be used frequently\n",
    "\n",
    "Instead of the syntx 'global', the syntax 'nonlocal' is now used to reference a variable that was defined in the outer function of the embbeded function setup \n"
   ]
  },
  {
   "cell_type": "markdown",
   "metadata": {},
   "source": [
    "-------------Documenting Functions--------------"
   ]
  },
  {
   "cell_type": "code",
   "execution_count": 60,
   "metadata": {},
   "outputs": [
    {
     "data": {
      "text/plain": [
       "'Return random integer in range [a, b], including both end points.\\n        '"
      ]
     },
     "execution_count": 60,
     "metadata": {},
     "output_type": "execute_result"
    }
   ],
   "source": [
    "import random\n",
    "random.randint.__doc__"
   ]
  },
  {
   "cell_type": "markdown",
   "metadata": {},
   "source": [
    "The above shows that using double underscores when attached to the end of a given function wil shows its documentation/explanation of what the function does\n"
   ]
  },
  {
   "cell_type": "code",
   "execution_count": 66,
   "metadata": {},
   "outputs": [
    {
     "data": {
      "text/plain": [
       "\"Simple function that returns the string 'hello'\""
      ]
     },
     "execution_count": 66,
     "metadata": {},
     "output_type": "execute_result"
    }
   ],
   "source": [
    "def sayhello():\n",
    "    \"\"\"Simple function that returns the string 'hello'\"\"\"\n",
    "    return 'Hello!'\n",
    "\n",
    "sayhello.__doc__\n"
   ]
  },
  {
   "cell_type": "code",
   "execution_count": 67,
   "metadata": {},
   "outputs": [
    {
     "name": "stdout",
     "output_type": "stream",
     "text": [
      "Hello!\n"
     ]
    }
   ],
   "source": [
    "def sayhello():\n",
    "    \"\"\"Simple function that returns the string 'hello'\"\"\"\n",
    "    return 'Hello!'\n",
    "\n",
    "print (sayhello())"
   ]
  },
  {
   "cell_type": "markdown",
   "metadata": {},
   "source": [
    "The above shows that if making own function, the use of \"\"\"  \"\"\" will allow the input of documentation\n",
    "\n"
   ]
  },
  {
   "cell_type": "markdown",
   "metadata": {},
   "source": [
    "----------------------------------------------"
   ]
  },
  {
   "cell_type": "markdown",
   "metadata": {},
   "source": [
    "Functions Part 2 * args and ** kwargs"
   ]
  },
  {
   "cell_type": "markdown",
   "metadata": {},
   "source": [
    "* args and ** kwargs are esentially tuple and dictionary unpacking respectively, to create more flexible functions\n",
    "\n",
    "It is said that the * args and ** kwargs are gathering the arguments as a tuple and dictionary respectively, so this explains why the {   } dictionary boundary is 'not needed' when entering arguments into for printing function for the case of ** kwargs"
   ]
  },
  {
   "cell_type": "code",
   "execution_count": 3,
   "metadata": {},
   "outputs": [
    {
     "name": "stdout",
     "output_type": "stream",
     "text": [
      "15\n"
     ]
    }
   ],
   "source": [
    "def summation (num1,num2,num3,num4,num5):\n",
    "    return num1+num2+num3+num4+num5\n",
    "\n",
    "print (summation(1,2,3,4,5))"
   ]
  },
  {
   "cell_type": "markdown",
   "metadata": {},
   "source": [
    "A limitation of the traditional way of writing such a function is that more input values cannot be added, unless num6,num7... are entered as parameters\n",
    "\n",
    "This is troublesome"
   ]
  },
  {
   "cell_type": "code",
   "execution_count": 4,
   "metadata": {},
   "outputs": [
    {
     "name": "stdout",
     "output_type": "stream",
     "text": [
      "36\n"
     ]
    }
   ],
   "source": [
    "def summation (*args):\n",
    "    total = 0\n",
    "    for num in args:\n",
    "        total += num \n",
    "    return total \n",
    "\n",
    "print (summation(1,2,3,4,5,6,7,8))"
   ]
  },
  {
   "cell_type": "code",
   "execution_count": 5,
   "metadata": {},
   "outputs": [
    {
     "name": "stdout",
     "output_type": "stream",
     "text": [
      "36\n"
     ]
    }
   ],
   "source": [
    "def summation (*rename):\n",
    "    total = 0\n",
    "    for num in rename:\n",
    "        total += num \n",
    "    return total \n",
    "\n",
    "print (summation(1,2,3,4,5,6,7,8))"
   ]
  },
  {
   "cell_type": "markdown",
   "metadata": {},
   "source": [
    "Notice in the above example of how the args is taking the tuple as defined under the print syntax where the argumeents were entered into the summation fucntion \n",
    "\n",
    "Also note that this invovles the concept of looping within the tuple for the unpacking \n",
    "\n",
    "Also notice how args can be renamed, notwithstanding that the * asteris has to be there when defining the function"
   ]
  },
  {
   "cell_type": "code",
   "execution_count": 10,
   "metadata": {},
   "outputs": [
    {
     "name": "stdout",
     "output_type": "stream",
     "text": [
      "{'CK': 'Red', 'Tom': 'Blue', 'Bob': 'Green'}\n"
     ]
    }
   ],
   "source": [
    "def favourite_colours (** kwargs):\n",
    "    return (kwargs)\n",
    "    \n",
    "print(favourite_colours(CK=\"Red\", Tom=\"Blue\",Bob=\"Green\"))"
   ]
  },
  {
   "cell_type": "code",
   "execution_count": 19,
   "metadata": {},
   "outputs": [
    {
     "name": "stdout",
     "output_type": "stream",
     "text": [
      "CK's favourite colour is Red\n"
     ]
    }
   ],
   "source": [
    "def fav_colours(**kwargs):\n",
    "    for key,value in kwargs.items():\n",
    "        return (f\"{key}'s favourite colour is {value}\")\n",
    "\n",
    "print(fav_colours(CK=\"Red\", Tom=\"Blue\",Bob=\"Green\"))"
   ]
  },
  {
   "cell_type": "code",
   "execution_count": 24,
   "metadata": {},
   "outputs": [
    {
     "name": "stdout",
     "output_type": "stream",
     "text": [
      "CK's favourite colour is Red\n"
     ]
    }
   ],
   "source": [
    "def fav_colours2(**selection):\n",
    "    for person,colour in selection.items():\n",
    "        return (f\"{person}'s favourite colour is {colour}\")\n",
    "\n",
    "print(fav_colours2(CK=\"Red\", Tom=\"Blue\",Bob=\"Green\"))"
   ]
  },
  {
   "cell_type": "code",
   "execution_count": 76,
   "metadata": {},
   "outputs": [
    {
     "name": "stdout",
     "output_type": "stream",
     "text": [
      " Good Afternoon David!\n"
     ]
    }
   ],
   "source": [
    "def special_greeting(**kwargs):\n",
    "    if \"David\" in kwargs and kwargs[\"David\"]==\"special\":\n",
    "        return \"you get a special greeting David\"\n",
    "    elif \"David\" in kwargs:\n",
    "        return f\"{kwargs['David']}David!\"\n",
    "    return \"Not sure who this is\"\n",
    "    \n",
    "print(special_greeting(Heather=\"hello\",David=\" Good Afternoon \"))"
   ]
  },
  {
   "cell_type": "markdown",
   "metadata": {},
   "source": [
    "-----------------------------------------------"
   ]
  },
  {
   "cell_type": "markdown",
   "metadata": {},
   "source": [
    "1. Tuple and 2. Dictionary Unpacking"
   ]
  },
  {
   "cell_type": "markdown",
   "metadata": {},
   "source": [
    "1. Tuple"
   ]
  },
  {
   "cell_type": "code",
   "execution_count": null,
   "metadata": {},
   "outputs": [],
   "source": [
    "def sum_all_values(*args):\n",
    "    \n",
    "    print(sum_all_values(nums_list))\n",
    "    \n",
    "    total = 0\n",
    "    for num in args:\n",
    "        total += num\n",
    "    return (total)\n",
    "    \n",
    "nums_list = [1,2,3,4,5]\n",
    "print (sum_all_values(*nums_list))"
   ]
  },
  {
   "cell_type": "markdown",
   "metadata": {},
   "source": [
    "The concept in the above example is that if tuple unpacking was not used, there would be an issue with the iteration over the individual arguments, since a list is counted only as one time \n",
    "\n",
    "(sum_all_values(*nums_list)) were to be (sum_all_values(nums_list)) instead without the *asteris,\n",
    "\n",
    "it would be interpreted as a one item tuple that looks like this: \n",
    "\n",
    "([1,2,3,4,5,6],)"
   ]
  },
  {
   "cell_type": "code",
   "execution_count": null,
   "metadata": {},
   "outputs": [],
   "source": []
  },
  {
   "cell_type": "markdown",
   "metadata": {},
   "source": [
    "\n",
    "\n",
    "2. Dictionary Unpacking "
   ]
  },
  {
   "cell_type": "code",
   "execution_count": 35,
   "metadata": {},
   "outputs": [
    {
     "name": "stdout",
     "output_type": "stream",
     "text": [
      "CK says hello to Bob\n"
     ]
    }
   ],
   "source": [
    "def display_names(first,second):\n",
    "    return (f\"{first} says hello to {second}\")\n",
    "    \n",
    "names = {\"first\": \"CK\",\"second\": \"Bob\"}\n",
    "\n",
    "print(display_names(**names))"
   ]
  },
  {
   "cell_type": "markdown",
   "metadata": {},
   "source": [
    "Thea above example shows how the dictionary unpacking is used, and the ** at the end simply unpacks by looking for the respective keys, and spitting out the values of the keys as the arguments for the function parameters"
   ]
  },
  {
   "cell_type": "code",
   "execution_count": null,
   "metadata": {},
   "outputs": [],
   "source": []
  }
 ],
 "metadata": {
  "kernelspec": {
   "display_name": "Python 3",
   "language": "python",
   "name": "python3"
  },
  "language_info": {
   "codemirror_mode": {
    "name": "ipython",
    "version": 3
   },
   "file_extension": ".py",
   "mimetype": "text/x-python",
   "name": "python",
   "nbconvert_exporter": "python",
   "pygments_lexer": "ipython3",
   "version": "3.7.6"
  }
 },
 "nbformat": 4,
 "nbformat_minor": 4
}
