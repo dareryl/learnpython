{
 "cells": [
  {
   "cell_type": "code",
   "execution_count": 1,
   "metadata": {},
   "outputs": [],
   "source": [
    "import requests\n",
    "from bs4 import BeautifulSoup\n",
    "import csv\n",
    "import pandas as pd"
   ]
  },
  {
   "cell_type": "code",
   "execution_count": 79,
   "metadata": {},
   "outputs": [
    {
     "data": {
      "text/plain": [
       "'Japanese'"
      ]
     },
     "execution_count": 79,
     "metadata": {},
     "output_type": "execute_result"
    }
   ],
   "source": [
    "url = \"https://www.bbc.com/\" \n"
   ]
  },
  {
   "cell_type": "code",
   "execution_count": 3,
   "metadata": {},
   "outputs": [],
   "source": [
    "from requests.packages.urllib3.exceptions import InsecureRequestWarning\n",
    "requests.packages.urllib3.disable_warnings(InsecureRequestWarning)"
   ]
  },
  {
   "cell_type": "code",
   "execution_count": 156,
   "metadata": {},
   "outputs": [],
   "source": [
    "f = open(\"scapped_BBC.csv\", \"w\", encoding = \"utf8\", newline = '')"
   ]
  },
  {
   "cell_type": "code",
   "execution_count": 158,
   "metadata": {},
   "outputs": [
    {
     "data": {
      "text/plain": [
       "14"
      ]
     },
     "execution_count": 158,
     "metadata": {},
     "output_type": "execute_result"
    }
   ],
   "source": [
    "writer = csv.writer(f, delimiter = ',')\n",
    "writer.writerow(['headline','url'])\n"
   ]
  },
  {
   "cell_type": "code",
   "execution_count": 95,
   "metadata": {},
   "outputs": [],
   "source": [
    "page = requests.get(url, verify=False)"
   ]
  },
  {
   "cell_type": "code",
   "execution_count": 96,
   "metadata": {},
   "outputs": [],
   "source": [
    "soup = BeautifulSoup(page.content, 'html.parser')"
   ]
  },
  {
   "cell_type": "code",
   "execution_count": 127,
   "metadata": {
    "scrolled": true
   },
   "outputs": [
    {
     "data": {
      "text/plain": [
       "<h3 class=\"media__title\">\n",
       "<a class=\"media__link\" href=\"https://www.bbc.com/news/science-environment-52529830\" rev=\"hero2|headline\">\n",
       "                                                                    Scientists may never find the 'missing link' species                                                            </a>\n",
       "</h3>"
      ]
     },
     "execution_count": 127,
     "metadata": {},
     "output_type": "execute_result"
    }
   ],
   "source": [
    "cell = soup.find_all('h3')\n",
    "cell[1]"
   ]
  },
  {
   "cell_type": "code",
   "execution_count": 143,
   "metadata": {},
   "outputs": [],
   "source": [
    "cells = cell[1]\n",
    "b=cell[2].find('a')\n",
    "b.get('kkk')"
   ]
  },
  {
   "cell_type": "code",
   "execution_count": 159,
   "metadata": {},
   "outputs": [],
   "source": [
    "for row in cell: \n",
    "    headline = row.text.strip()\n",
    "    url = row.find('a')\n",
    "    if url:\n",
    "        attr = url.get('href')\n",
    "        if attr:\n",
    "            if 'https://www.bbc.com' in attr: \n",
    "                writer.writerow([headline, attr])\n",
    "            else: \n",
    "                writer.writerow([headline, 'https://www.bbc.com' + attr])\n",
    "    else: \n",
    "        writer.writerow([headline])\n",
    "            "
   ]
  },
  {
   "cell_type": "code",
   "execution_count": 160,
   "metadata": {},
   "outputs": [],
   "source": [
    "f.close()"
   ]
  },
  {
   "cell_type": "code",
   "execution_count": 168,
   "metadata": {},
   "outputs": [
    {
     "data": {
      "text/html": [
       "<div>\n",
       "<style scoped>\n",
       "    .dataframe tbody tr th:only-of-type {\n",
       "        vertical-align: middle;\n",
       "    }\n",
       "\n",
       "    .dataframe tbody tr th {\n",
       "        vertical-align: top;\n",
       "    }\n",
       "\n",
       "    .dataframe thead th {\n",
       "        text-align: right;\n",
       "    }\n",
       "</style>\n",
       "<table border=\"1\" class=\"dataframe\">\n",
       "  <thead>\n",
       "    <tr style=\"text-align: right;\">\n",
       "      <th></th>\n",
       "      <th>headline</th>\n",
       "      <th>url</th>\n",
       "    </tr>\n",
       "  </thead>\n",
       "  <tbody>\n",
       "    <tr>\n",
       "      <th>27</th>\n",
       "      <td>How much water should we drink a day?</td>\n",
       "      <td>https://www.bbc.com/future/article/20190403-ho...</td>\n",
       "    </tr>\n",
       "    <tr>\n",
       "      <th>32</th>\n",
       "      <td>J Crew files for bankruptcy protection</td>\n",
       "      <td>NaN</td>\n",
       "    </tr>\n",
       "    <tr>\n",
       "      <th>17</th>\n",
       "      <td>Thu</td>\n",
       "      <td>NaN</td>\n",
       "    </tr>\n",
       "    <tr>\n",
       "      <th>59</th>\n",
       "      <td>Unions warn over move to increase rail services</td>\n",
       "      <td>https://www.bbc.com/news/business-52524345</td>\n",
       "    </tr>\n",
       "    <tr>\n",
       "      <th>43</th>\n",
       "      <td>Game of Thrones actor breaks deadlift world...</td>\n",
       "      <td>https://www.bbc.com/news/entertainment-arts-52...</td>\n",
       "    </tr>\n",
       "    <tr>\n",
       "      <th>6</th>\n",
       "      <td>World must 'pull together' to back vaccine</td>\n",
       "      <td>https://www.bbc.com/news/world-europe-52525387</td>\n",
       "    </tr>\n",
       "    <tr>\n",
       "      <th>53</th>\n",
       "      <td>One-minute World News</td>\n",
       "      <td>https://www.bbc.com/news/10462520</td>\n",
       "    </tr>\n",
       "    <tr>\n",
       "      <th>58</th>\n",
       "      <td>Love Island summer series cancelled, ITV confirms</td>\n",
       "      <td>https://www.bbc.com/news/entertainment-arts-52...</td>\n",
       "    </tr>\n",
       "    <tr>\n",
       "      <th>56</th>\n",
       "      <td>Trump warns of 100,000 coronavirus deaths in US</td>\n",
       "      <td>https://www.bbc.com/news/world-us-canada-52526189</td>\n",
       "    </tr>\n",
       "    <tr>\n",
       "      <th>0</th>\n",
       "      <td>Italy relaxes lockdown as number of deaths falls</td>\n",
       "      <td>https://www.bbc.com/news/live/world-52525531</td>\n",
       "    </tr>\n",
       "  </tbody>\n",
       "</table>\n",
       "</div>"
      ],
      "text/plain": [
       "                                             headline  \\\n",
       "27              How much water should we drink a day?   \n",
       "32             J Crew files for bankruptcy protection   \n",
       "17                                                Thu   \n",
       "59    Unions warn over move to increase rail services   \n",
       "43     Game of Thrones actor breaks deadlift world...   \n",
       "6          World must 'pull together' to back vaccine   \n",
       "53                              One-minute World News   \n",
       "58  Love Island summer series cancelled, ITV confirms   \n",
       "56    Trump warns of 100,000 coronavirus deaths in US   \n",
       "0    Italy relaxes lockdown as number of deaths falls   \n",
       "\n",
       "                                                  url  \n",
       "27  https://www.bbc.com/future/article/20190403-ho...  \n",
       "32                                                NaN  \n",
       "17                                                NaN  \n",
       "59         https://www.bbc.com/news/business-52524345  \n",
       "43  https://www.bbc.com/news/entertainment-arts-52...  \n",
       "6      https://www.bbc.com/news/world-europe-52525387  \n",
       "53                  https://www.bbc.com/news/10462520  \n",
       "58  https://www.bbc.com/news/entertainment-arts-52...  \n",
       "56  https://www.bbc.com/news/world-us-canada-52526189  \n",
       "0        https://www.bbc.com/news/live/world-52525531  "
      ]
     },
     "execution_count": 168,
     "metadata": {},
     "output_type": "execute_result"
    }
   ],
   "source": [
    "df = pd.read_csv('scapped_BBC.csv')\n",
    "df.sample(10)"
   ]
  },
  {
   "cell_type": "code",
   "execution_count": 92,
   "metadata": {},
   "outputs": [
    {
     "name": "stdout",
     "output_type": "stream",
     "text": [
      "Help on built-in function writerow:\n",
      "\n",
      "writerow(...) method of _csv.writer instance\n",
      "    writerow(iterable)\n",
      "    \n",
      "    Construct and write a CSV record from an iterable of fields.  Non-string\n",
      "    elements will be converted to string.\n",
      "\n"
     ]
    }
   ],
   "source": [
    "help(writer.writerow)\n",
    "     "
   ]
  },
  {
   "cell_type": "code",
   "execution_count": 155,
   "metadata": {},
   "outputs": [
    {
     "data": {
      "text/html": [
       "<div>\n",
       "<style scoped>\n",
       "    .dataframe tbody tr th:only-of-type {\n",
       "        vertical-align: middle;\n",
       "    }\n",
       "\n",
       "    .dataframe tbody tr th {\n",
       "        vertical-align: top;\n",
       "    }\n",
       "\n",
       "    .dataframe thead th {\n",
       "        text-align: right;\n",
       "    }\n",
       "</style>\n",
       "<table border=\"1\" class=\"dataframe\">\n",
       "  <thead>\n",
       "    <tr style=\"text-align: right;\">\n",
       "      <th></th>\n",
       "      <th>headline</th>\n",
       "    </tr>\n",
       "  </thead>\n",
       "  <tbody>\n",
       "    <tr>\n",
       "      <th>0</th>\n",
       "      <td>Italy relaxes lockdown as number of deaths falls</td>\n",
       "    </tr>\n",
       "    <tr>\n",
       "      <th>1</th>\n",
       "      <td>Scientists may never find the 'missing link' s...</td>\n",
       "    </tr>\n",
       "    <tr>\n",
       "      <th>2</th>\n",
       "      <td>Passengers told to wear face masks on flights</td>\n",
       "    </tr>\n",
       "    <tr>\n",
       "      <th>3</th>\n",
       "      <td>The performance-enhancing trick to being a bet...</td>\n",
       "    </tr>\n",
       "    <tr>\n",
       "      <th>4</th>\n",
       "      <td>Inside Sweden's feminist men's clubs</td>\n",
       "    </tr>\n",
       "    <tr>\n",
       "      <th>...</th>\n",
       "      <td>...</td>\n",
       "    </tr>\n",
       "    <tr>\n",
       "      <th>76</th>\n",
       "      <td>Africa's top shots: 'Corona' hair and helping ...</td>\n",
       "    </tr>\n",
       "    <tr>\n",
       "      <th>77</th>\n",
       "      <td>Urdu</td>\n",
       "    </tr>\n",
       "    <tr>\n",
       "      <th>78</th>\n",
       "      <td>Vietnamese</td>\n",
       "    </tr>\n",
       "    <tr>\n",
       "      <th>79</th>\n",
       "      <td>Indonesian</td>\n",
       "    </tr>\n",
       "    <tr>\n",
       "      <th>80</th>\n",
       "      <td>Japanese</td>\n",
       "    </tr>\n",
       "  </tbody>\n",
       "</table>\n",
       "<p>81 rows × 1 columns</p>\n",
       "</div>"
      ],
      "text/plain": [
       "                                             headline\n",
       "0    Italy relaxes lockdown as number of deaths falls\n",
       "1   Scientists may never find the 'missing link' s...\n",
       "2       Passengers told to wear face masks on flights\n",
       "3   The performance-enhancing trick to being a bet...\n",
       "4                Inside Sweden's feminist men's clubs\n",
       "..                                                ...\n",
       "76  Africa's top shots: 'Corona' hair and helping ...\n",
       "77                                               Urdu\n",
       "78                                         Vietnamese\n",
       "79                                         Indonesian\n",
       "80                                           Japanese\n",
       "\n",
       "[81 rows x 1 columns]"
      ]
     },
     "execution_count": 155,
     "metadata": {},
     "output_type": "execute_result"
    }
   ],
   "source": [
    "import requests\n",
    "from bs4 import BeautifulSoup\n",
    "import csv\n",
    "import pandas as pd\n",
    "url = \"https://www.bbc.com/\" \n",
    "f = open(\"scapped_BBC.csv\", \"w\", encoding = \"utf8\", newline = '')\n",
    "writer = csv.writer(f, delimiter = ',')\n",
    "writer.writerow(['headline'])\n",
    "page = requests.get(url, verify=False)\n",
    "soup = BeautifulSoup(page.content, 'html.parser')\n",
    "cell = soup.find_all('h3')\n",
    "for row in cell: \n",
    "    headline = row.text.strip()\n",
    "    writer.writerow([headline])\n",
    "f.close()\n",
    "df = pd.read_csv('scapped_BBC.csv')\n",
    "df"
   ]
  },
  {
   "cell_type": "code",
   "execution_count": 169,
   "metadata": {},
   "outputs": [
    {
     "data": {
      "text/html": [
       "<div>\n",
       "<style scoped>\n",
       "    .dataframe tbody tr th:only-of-type {\n",
       "        vertical-align: middle;\n",
       "    }\n",
       "\n",
       "    .dataframe tbody tr th {\n",
       "        vertical-align: top;\n",
       "    }\n",
       "\n",
       "    .dataframe thead th {\n",
       "        text-align: right;\n",
       "    }\n",
       "</style>\n",
       "<table border=\"1\" class=\"dataframe\">\n",
       "  <thead>\n",
       "    <tr style=\"text-align: right;\">\n",
       "      <th></th>\n",
       "      <th>headline</th>\n",
       "      <th>url</th>\n",
       "    </tr>\n",
       "  </thead>\n",
       "  <tbody>\n",
       "    <tr>\n",
       "      <th>0</th>\n",
       "      <td>Italy relaxes lockdown as number of deaths falls</td>\n",
       "      <td>https://www.bbc.com/news/live/world-52525531</td>\n",
       "    </tr>\n",
       "    <tr>\n",
       "      <th>1</th>\n",
       "      <td>Scientists may never find the 'missing link' s...</td>\n",
       "      <td>https://www.bbc.com/news/science-environment-5...</td>\n",
       "    </tr>\n",
       "    <tr>\n",
       "      <th>2</th>\n",
       "      <td>Passengers told to wear face masks on flights</td>\n",
       "      <td>https://www.bbc.com/news/business-52498345</td>\n",
       "    </tr>\n",
       "    <tr>\n",
       "      <th>3</th>\n",
       "      <td>The performance-enhancing trick to being a bet...</td>\n",
       "      <td>https://www.bbc.comhttp://www.bbc.com/future/a...</td>\n",
       "    </tr>\n",
       "    <tr>\n",
       "      <th>4</th>\n",
       "      <td>Inside Sweden's feminist men's clubs</td>\n",
       "      <td>https://www.bbc.com/worklife/article/20200429-...</td>\n",
       "    </tr>\n",
       "    <tr>\n",
       "      <th>...</th>\n",
       "      <td>...</td>\n",
       "      <td>...</td>\n",
       "    </tr>\n",
       "    <tr>\n",
       "      <th>76</th>\n",
       "      <td>Africa's top shots: 'Corona' hair and helping ...</td>\n",
       "      <td>https://www.bbc.com/news/world-africa-52484481</td>\n",
       "    </tr>\n",
       "    <tr>\n",
       "      <th>77</th>\n",
       "      <td>Urdu</td>\n",
       "      <td>https://www.bbc.com/urdu/</td>\n",
       "    </tr>\n",
       "    <tr>\n",
       "      <th>78</th>\n",
       "      <td>Vietnamese</td>\n",
       "      <td>https://www.bbc.com/vietnamese/</td>\n",
       "    </tr>\n",
       "    <tr>\n",
       "      <th>79</th>\n",
       "      <td>Indonesian</td>\n",
       "      <td>https://www.bbc.com/indonesia/</td>\n",
       "    </tr>\n",
       "    <tr>\n",
       "      <th>80</th>\n",
       "      <td>Japanese</td>\n",
       "      <td>https://www.bbc.com/japanese/</td>\n",
       "    </tr>\n",
       "  </tbody>\n",
       "</table>\n",
       "<p>81 rows × 2 columns</p>\n",
       "</div>"
      ],
      "text/plain": [
       "                                             headline  \\\n",
       "0    Italy relaxes lockdown as number of deaths falls   \n",
       "1   Scientists may never find the 'missing link' s...   \n",
       "2       Passengers told to wear face masks on flights   \n",
       "3   The performance-enhancing trick to being a bet...   \n",
       "4                Inside Sweden's feminist men's clubs   \n",
       "..                                                ...   \n",
       "76  Africa's top shots: 'Corona' hair and helping ...   \n",
       "77                                               Urdu   \n",
       "78                                         Vietnamese   \n",
       "79                                         Indonesian   \n",
       "80                                           Japanese   \n",
       "\n",
       "                                                  url  \n",
       "0        https://www.bbc.com/news/live/world-52525531  \n",
       "1   https://www.bbc.com/news/science-environment-5...  \n",
       "2          https://www.bbc.com/news/business-52498345  \n",
       "3   https://www.bbc.comhttp://www.bbc.com/future/a...  \n",
       "4   https://www.bbc.com/worklife/article/20200429-...  \n",
       "..                                                ...  \n",
       "76     https://www.bbc.com/news/world-africa-52484481  \n",
       "77                          https://www.bbc.com/urdu/  \n",
       "78                    https://www.bbc.com/vietnamese/  \n",
       "79                     https://www.bbc.com/indonesia/  \n",
       "80                      https://www.bbc.com/japanese/  \n",
       "\n",
       "[81 rows x 2 columns]"
      ]
     },
     "execution_count": 169,
     "metadata": {},
     "output_type": "execute_result"
    }
   ],
   "source": [
    "import requests\n",
    "from bs4 import BeautifulSoup\n",
    "import csv\n",
    "import pandas as pd\n",
    "url = \"https://www.bbc.com/\" \n",
    "f = open(\"scapped_BBC.csv\", \"w\", encoding = \"utf8\", newline = '')\n",
    "writer = csv.writer(f, delimiter = ',')\n",
    "writer.writerow(['headline','url'])\n",
    "page = requests.get(url, verify=False)\n",
    "soup = BeautifulSoup(page.content, 'html.parser')\n",
    "cell = soup.find_all('h3')\n",
    "for row in cell: \n",
    "    headline = row.text.strip()\n",
    "    url = row.find('a')\n",
    "    if url:\n",
    "        attr = url.get('href')\n",
    "        if attr:\n",
    "            if 'https://www.bbc.com' in attr: \n",
    "                writer.writerow([headline, attr])\n",
    "            else: \n",
    "                writer.writerow([headline, 'https://www.bbc.com' + attr])\n",
    "    else: \n",
    "        writer.writerow([headline])\n",
    "f.close()\n",
    "df = pd.read_csv('scapped_BBC.csv')\n",
    "df"
   ]
  },
  {
   "cell_type": "code",
   "execution_count": null,
   "metadata": {},
   "outputs": [],
   "source": []
  }
 ],
 "metadata": {
  "kernelspec": {
   "display_name": "Python 3",
   "language": "python",
   "name": "python3"
  },
  "language_info": {
   "codemirror_mode": {
    "name": "ipython",
    "version": 3
   },
   "file_extension": ".py",
   "mimetype": "text/x-python",
   "name": "python",
   "nbconvert_exporter": "python",
   "pygments_lexer": "ipython3",
   "version": "3.7.6"
  }
 },
 "nbformat": 4,
 "nbformat_minor": 4
}
